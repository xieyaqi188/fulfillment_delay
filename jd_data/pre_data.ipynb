{
 "cells": [
  {
   "cell_type": "markdown",
   "source": [
    "### Preprocess JD data"
   ],
   "metadata": {
    "collapsed": false,
    "pycharm": {
     "name": "#%% md\n"
    }
   }
  },
  {
   "cell_type": "code",
   "execution_count": 29,
   "outputs": [],
   "source": [
    "import pandas as pd\n",
    "import numpy as np\n",
    "import matplotlib.pyplot as plt\n",
    "import datetime"
   ],
   "metadata": {
    "collapsed": false,
    "pycharm": {
     "name": "#%%\n"
    }
   }
  },
  {
   "cell_type": "code",
   "execution_count": 30,
   "outputs": [
    {
     "name": "stdout",
     "output_type": "stream",
     "text": [
      "<class 'pandas.core.frame.DataFrame'>\n",
      "RangeIndex: 549989 entries, 0 to 549988\n",
      "Data columns (total 17 columns):\n",
      " #   Column                      Non-Null Count   Dtype  \n",
      "---  ------                      --------------   -----  \n",
      " 0   order_ID                    549989 non-null  object \n",
      " 1   user_ID                     549989 non-null  object \n",
      " 2   sku_ID                      549989 non-null  object \n",
      " 3   order_date                  549989 non-null  object \n",
      " 4   order_time                  549989 non-null  object \n",
      " 5   quantity                    549989 non-null  int64  \n",
      " 6   type                        549989 non-null  int64  \n",
      " 7   promise                     549989 non-null  object \n",
      " 8   original_unit_price         549989 non-null  float64\n",
      " 9   final_unit_price            549989 non-null  float64\n",
      " 10  direct_discount_per_unit    549989 non-null  float64\n",
      " 11  quantity_discount_per_unit  549989 non-null  float64\n",
      " 12  bundle_discount_per_unit    549989 non-null  float64\n",
      " 13  coupon_discount_per_unit    549989 non-null  float64\n",
      " 14  gift_item                   549989 non-null  int64  \n",
      " 15  dc_ori                      549989 non-null  int64  \n",
      " 16  dc_des                      549989 non-null  int64  \n",
      "dtypes: float64(6), int64(5), object(6)\n",
      "memory usage: 71.3+ MB\n"
     ]
    }
   ],
   "source": [
    "order = pd.read_csv(\"./JD_data/JD_order_data.csv\")\n",
    "order.info()"
   ],
   "metadata": {
    "collapsed": false,
    "pycharm": {
     "name": "#%%\n"
    }
   }
  },
  {
   "cell_type": "code",
   "execution_count": 31,
   "outputs": [
    {
     "name": "stderr",
     "output_type": "stream",
     "text": [
      "C:\\Users\\18888\\AppData\\Local\\Temp\\ipykernel_8304\\2457394310.py:6: SettingWithCopyWarning: \n",
      "A value is trying to be set on a copy of a slice from a DataFrame.\n",
      "Try using .loc[row_indexer,col_indexer] = value instead\n",
      "\n",
      "See the caveats in the documentation: https://pandas.pydata.org/pandas-docs/stable/user_guide/indexing.html#returning-a-view-versus-a-copy\n",
      "  order_1p['order_date'] = pd.to_datetime(order_1p['order_date'])\n",
      "C:\\Users\\18888\\AppData\\Local\\Temp\\ipykernel_8304\\2457394310.py:7: SettingWithCopyWarning: \n",
      "A value is trying to be set on a copy of a slice from a DataFrame.\n",
      "Try using .loc[row_indexer,col_indexer] = value instead\n",
      "\n",
      "See the caveats in the documentation: https://pandas.pydata.org/pandas-docs/stable/user_guide/indexing.html#returning-a-view-versus-a-copy\n",
      "  order_1p['order_time'] = pd.to_datetime(order_1p['order_time'])\n",
      "C:\\Users\\18888\\AppData\\Local\\Temp\\ipykernel_8304\\2457394310.py:9: SettingWithCopyWarning: \n",
      "A value is trying to be set on a copy of a slice from a DataFrame\n",
      "\n",
      "See the caveats in the documentation: https://pandas.pydata.org/pandas-docs/stable/user_guide/indexing.html#returning-a-view-versus-a-copy\n",
      "  order_1p.sort_values(by=['order_time'], ascending=True, inplace=True)\n"
     ]
    }
   ],
   "source": [
    "# drop duplicate\n",
    "order = order.drop_duplicates(subset=['order_ID', 'sku_ID'], keep='first')\n",
    "# 1P\n",
    "order_1p = order[order['type'] == 1]\n",
    "# timestamp --- datetime\n",
    "order_1p['order_date'] = pd.to_datetime(order_1p['order_date'])\n",
    "order_1p['order_time'] = pd.to_datetime(order_1p['order_time'])\n",
    "# order time\n",
    "order_1p.sort_values(by=['order_time'], ascending=True, inplace=True)\n",
    "# save\n",
    "order_1p.to_csv('./pre_data/order_1p.csv', index=False)"
   ],
   "metadata": {
    "collapsed": false,
    "pycharm": {
     "name": "#%%\n"
    }
   }
  },
  {
   "cell_type": "code",
   "execution_count": 32,
   "outputs": [
    {
     "data": {
      "text/plain": "         order_ID     user_ID      sku_ID order_date          order_time  \\\n18389  ec43a8d555  8095774018  416aed740e 2018-03-01 2018-03-01 00:00:00   \n19682  0e8271caa5  69b1f57091  416aed740e 2018-03-01 2018-03-01 00:00:00   \n19685  ad2c7ef07b  dd1adaddd6  416aed740e 2018-03-01 2018-03-01 00:00:00   \n19709  3de7e67c09  3f5ed6bcb2  416aed740e 2018-03-01 2018-03-01 00:00:00   \n6836   03cfac9a9d  58f640c4e5  416aed740e 2018-03-01 2018-03-01 00:00:00   \n30404  c994c2b7a3  6a5c089f3d  416aed740e 2018-03-01 2018-03-01 00:00:00   \n3703   2645bb5943  db2a95aed5  416aed740e 2018-03-01 2018-03-01 00:00:00   \n5900   2f6dd45551  be4b2d6087  416aed740e 2018-03-01 2018-03-01 00:00:01   \n34187  77b7d4ccca  54b9524fe2  416aed740e 2018-03-01 2018-03-01 00:00:01   \n34189  1675ba953d  a3d4831849  416aed740e 2018-03-01 2018-03-01 00:00:02   \n21835  1d7cde56cd  09d3ac25a4  416aed740e 2018-03-01 2018-03-01 00:00:05   \n1848   362f6153a3  b2d9627a96  416aed740e 2018-03-01 2018-03-01 00:00:06   \n23565  234f5d2023  74fff2f4a8  416aed740e 2018-03-01 2018-03-01 00:00:08   \n9638   8f6b437f64  16120625cb  416aed740e 2018-03-01 2018-03-01 00:00:08   \n23155  a0010e0ade  53cc29ea6d  416aed740e 2018-03-01 2018-03-01 00:00:08   \n14722  658c8eaefa  c219b1222e  adfedb6893 2018-03-01 2018-03-01 00:00:10   \n11839  4e877e09be  c3a038b0d9  416aed740e 2018-03-01 2018-03-01 00:00:10   \n6298   795decbd65  9df27ef4e4  416aed740e 2018-03-01 2018-03-01 00:00:11   \n240    2572814836  05c9c613bf  416aed740e 2018-03-01 2018-03-01 00:00:11   \n29793  9cd829ca7a  41c5936f49  3c79df1d80 2018-03-01 2018-03-01 00:00:11   \n\n       quantity  type promise  original_unit_price  final_unit_price  \\\n18389         1     1       1                162.9               9.9   \n19682         1     1       1                162.9               9.9   \n19685         1     1       1                162.9               9.9   \n19709         1     1       1                162.9               9.9   \n6836          1     1       2                162.9               9.9   \n30404         1     1       1                162.9               9.9   \n3703          1     1       1                162.9               9.9   \n5900          1     1       2                162.9               9.9   \n34187         1     1       2                162.9               9.9   \n34189         1     1       2                162.9               9.9   \n21835         1     1       2                162.9               9.9   \n1848          1     1       2                162.9               9.9   \n23565         1     1       2                162.9               9.9   \n9638          1     1       2                162.9               9.9   \n23155         1     1       1                162.9               9.9   \n14722         2     1       2                139.0              79.0   \n11839         1     1       1                162.9               9.9   \n6298          1     1       3                162.9               9.9   \n240           1     1       1                162.9               9.9   \n29793         1     1       1                 59.9              39.9   \n\n       direct_discount_per_unit  quantity_discount_per_unit  \\\n18389                     153.0                         0.0   \n19682                     153.0                         0.0   \n19685                     153.0                         0.0   \n19709                     153.0                         0.0   \n6836                      153.0                         0.0   \n30404                     153.0                         0.0   \n3703                      153.0                         0.0   \n5900                      153.0                         0.0   \n34187                     153.0                         0.0   \n34189                     153.0                         0.0   \n21835                     153.0                         0.0   \n1848                      153.0                         0.0   \n23565                     153.0                         0.0   \n9638                      153.0                         0.0   \n23155                     153.0                         0.0   \n14722                      10.0                        50.0   \n11839                     153.0                         0.0   \n6298                      153.0                         0.0   \n240                       153.0                         0.0   \n29793                      20.0                         0.0   \n\n       bundle_discount_per_unit  coupon_discount_per_unit  gift_item  dc_ori  \\\n18389                       0.0                       0.0          0      10   \n19682                       0.0                       0.0          0       9   \n19685                       0.0                       0.0          0       9   \n19709                       0.0                       0.0          0       9   \n6836                        0.0                       0.0          0      26   \n30404                       0.0                       0.0          0       4   \n3703                        0.0                       0.0          0      26   \n5900                        0.0                       0.0          0      24   \n34187                       0.0                       0.0          0       7   \n34189                       0.0                       0.0          0       7   \n21835                       0.0                       0.0          0       2   \n1848                        0.0                       0.0          0       7   \n23565                       0.0                       0.0          0      31   \n9638                        0.0                       0.0          0       3   \n23155                       0.0                       0.0          0       2   \n14722                       0.0                       0.0          0       7   \n11839                       0.0                       0.0          0      26   \n6298                        0.0                       0.0          0      24   \n240                         0.0                       0.0          0      28   \n29793                       0.0                       0.0          0       4   \n\n       dc_des  \n18389      10  \n19682       9  \n19685       9  \n19709       9  \n6836       26  \n30404       4  \n3703       26  \n5900       24  \n34187      53  \n34189      53  \n21835      20  \n1848        1  \n23565      31  \n9638       33  \n23155       2  \n14722      53  \n11839      26  \n6298       40  \n240        28  \n29793       4  ",
      "text/html": "<div>\n<style scoped>\n    .dataframe tbody tr th:only-of-type {\n        vertical-align: middle;\n    }\n\n    .dataframe tbody tr th {\n        vertical-align: top;\n    }\n\n    .dataframe thead th {\n        text-align: right;\n    }\n</style>\n<table border=\"1\" class=\"dataframe\">\n  <thead>\n    <tr style=\"text-align: right;\">\n      <th></th>\n      <th>order_ID</th>\n      <th>user_ID</th>\n      <th>sku_ID</th>\n      <th>order_date</th>\n      <th>order_time</th>\n      <th>quantity</th>\n      <th>type</th>\n      <th>promise</th>\n      <th>original_unit_price</th>\n      <th>final_unit_price</th>\n      <th>direct_discount_per_unit</th>\n      <th>quantity_discount_per_unit</th>\n      <th>bundle_discount_per_unit</th>\n      <th>coupon_discount_per_unit</th>\n      <th>gift_item</th>\n      <th>dc_ori</th>\n      <th>dc_des</th>\n    </tr>\n  </thead>\n  <tbody>\n    <tr>\n      <th>18389</th>\n      <td>ec43a8d555</td>\n      <td>8095774018</td>\n      <td>416aed740e</td>\n      <td>2018-03-01</td>\n      <td>2018-03-01 00:00:00</td>\n      <td>1</td>\n      <td>1</td>\n      <td>1</td>\n      <td>162.9</td>\n      <td>9.9</td>\n      <td>153.0</td>\n      <td>0.0</td>\n      <td>0.0</td>\n      <td>0.0</td>\n      <td>0</td>\n      <td>10</td>\n      <td>10</td>\n    </tr>\n    <tr>\n      <th>19682</th>\n      <td>0e8271caa5</td>\n      <td>69b1f57091</td>\n      <td>416aed740e</td>\n      <td>2018-03-01</td>\n      <td>2018-03-01 00:00:00</td>\n      <td>1</td>\n      <td>1</td>\n      <td>1</td>\n      <td>162.9</td>\n      <td>9.9</td>\n      <td>153.0</td>\n      <td>0.0</td>\n      <td>0.0</td>\n      <td>0.0</td>\n      <td>0</td>\n      <td>9</td>\n      <td>9</td>\n    </tr>\n    <tr>\n      <th>19685</th>\n      <td>ad2c7ef07b</td>\n      <td>dd1adaddd6</td>\n      <td>416aed740e</td>\n      <td>2018-03-01</td>\n      <td>2018-03-01 00:00:00</td>\n      <td>1</td>\n      <td>1</td>\n      <td>1</td>\n      <td>162.9</td>\n      <td>9.9</td>\n      <td>153.0</td>\n      <td>0.0</td>\n      <td>0.0</td>\n      <td>0.0</td>\n      <td>0</td>\n      <td>9</td>\n      <td>9</td>\n    </tr>\n    <tr>\n      <th>19709</th>\n      <td>3de7e67c09</td>\n      <td>3f5ed6bcb2</td>\n      <td>416aed740e</td>\n      <td>2018-03-01</td>\n      <td>2018-03-01 00:00:00</td>\n      <td>1</td>\n      <td>1</td>\n      <td>1</td>\n      <td>162.9</td>\n      <td>9.9</td>\n      <td>153.0</td>\n      <td>0.0</td>\n      <td>0.0</td>\n      <td>0.0</td>\n      <td>0</td>\n      <td>9</td>\n      <td>9</td>\n    </tr>\n    <tr>\n      <th>6836</th>\n      <td>03cfac9a9d</td>\n      <td>58f640c4e5</td>\n      <td>416aed740e</td>\n      <td>2018-03-01</td>\n      <td>2018-03-01 00:00:00</td>\n      <td>1</td>\n      <td>1</td>\n      <td>2</td>\n      <td>162.9</td>\n      <td>9.9</td>\n      <td>153.0</td>\n      <td>0.0</td>\n      <td>0.0</td>\n      <td>0.0</td>\n      <td>0</td>\n      <td>26</td>\n      <td>26</td>\n    </tr>\n    <tr>\n      <th>30404</th>\n      <td>c994c2b7a3</td>\n      <td>6a5c089f3d</td>\n      <td>416aed740e</td>\n      <td>2018-03-01</td>\n      <td>2018-03-01 00:00:00</td>\n      <td>1</td>\n      <td>1</td>\n      <td>1</td>\n      <td>162.9</td>\n      <td>9.9</td>\n      <td>153.0</td>\n      <td>0.0</td>\n      <td>0.0</td>\n      <td>0.0</td>\n      <td>0</td>\n      <td>4</td>\n      <td>4</td>\n    </tr>\n    <tr>\n      <th>3703</th>\n      <td>2645bb5943</td>\n      <td>db2a95aed5</td>\n      <td>416aed740e</td>\n      <td>2018-03-01</td>\n      <td>2018-03-01 00:00:00</td>\n      <td>1</td>\n      <td>1</td>\n      <td>1</td>\n      <td>162.9</td>\n      <td>9.9</td>\n      <td>153.0</td>\n      <td>0.0</td>\n      <td>0.0</td>\n      <td>0.0</td>\n      <td>0</td>\n      <td>26</td>\n      <td>26</td>\n    </tr>\n    <tr>\n      <th>5900</th>\n      <td>2f6dd45551</td>\n      <td>be4b2d6087</td>\n      <td>416aed740e</td>\n      <td>2018-03-01</td>\n      <td>2018-03-01 00:00:01</td>\n      <td>1</td>\n      <td>1</td>\n      <td>2</td>\n      <td>162.9</td>\n      <td>9.9</td>\n      <td>153.0</td>\n      <td>0.0</td>\n      <td>0.0</td>\n      <td>0.0</td>\n      <td>0</td>\n      <td>24</td>\n      <td>24</td>\n    </tr>\n    <tr>\n      <th>34187</th>\n      <td>77b7d4ccca</td>\n      <td>54b9524fe2</td>\n      <td>416aed740e</td>\n      <td>2018-03-01</td>\n      <td>2018-03-01 00:00:01</td>\n      <td>1</td>\n      <td>1</td>\n      <td>2</td>\n      <td>162.9</td>\n      <td>9.9</td>\n      <td>153.0</td>\n      <td>0.0</td>\n      <td>0.0</td>\n      <td>0.0</td>\n      <td>0</td>\n      <td>7</td>\n      <td>53</td>\n    </tr>\n    <tr>\n      <th>34189</th>\n      <td>1675ba953d</td>\n      <td>a3d4831849</td>\n      <td>416aed740e</td>\n      <td>2018-03-01</td>\n      <td>2018-03-01 00:00:02</td>\n      <td>1</td>\n      <td>1</td>\n      <td>2</td>\n      <td>162.9</td>\n      <td>9.9</td>\n      <td>153.0</td>\n      <td>0.0</td>\n      <td>0.0</td>\n      <td>0.0</td>\n      <td>0</td>\n      <td>7</td>\n      <td>53</td>\n    </tr>\n    <tr>\n      <th>21835</th>\n      <td>1d7cde56cd</td>\n      <td>09d3ac25a4</td>\n      <td>416aed740e</td>\n      <td>2018-03-01</td>\n      <td>2018-03-01 00:00:05</td>\n      <td>1</td>\n      <td>1</td>\n      <td>2</td>\n      <td>162.9</td>\n      <td>9.9</td>\n      <td>153.0</td>\n      <td>0.0</td>\n      <td>0.0</td>\n      <td>0.0</td>\n      <td>0</td>\n      <td>2</td>\n      <td>20</td>\n    </tr>\n    <tr>\n      <th>1848</th>\n      <td>362f6153a3</td>\n      <td>b2d9627a96</td>\n      <td>416aed740e</td>\n      <td>2018-03-01</td>\n      <td>2018-03-01 00:00:06</td>\n      <td>1</td>\n      <td>1</td>\n      <td>2</td>\n      <td>162.9</td>\n      <td>9.9</td>\n      <td>153.0</td>\n      <td>0.0</td>\n      <td>0.0</td>\n      <td>0.0</td>\n      <td>0</td>\n      <td>7</td>\n      <td>1</td>\n    </tr>\n    <tr>\n      <th>23565</th>\n      <td>234f5d2023</td>\n      <td>74fff2f4a8</td>\n      <td>416aed740e</td>\n      <td>2018-03-01</td>\n      <td>2018-03-01 00:00:08</td>\n      <td>1</td>\n      <td>1</td>\n      <td>2</td>\n      <td>162.9</td>\n      <td>9.9</td>\n      <td>153.0</td>\n      <td>0.0</td>\n      <td>0.0</td>\n      <td>0.0</td>\n      <td>0</td>\n      <td>31</td>\n      <td>31</td>\n    </tr>\n    <tr>\n      <th>9638</th>\n      <td>8f6b437f64</td>\n      <td>16120625cb</td>\n      <td>416aed740e</td>\n      <td>2018-03-01</td>\n      <td>2018-03-01 00:00:08</td>\n      <td>1</td>\n      <td>1</td>\n      <td>2</td>\n      <td>162.9</td>\n      <td>9.9</td>\n      <td>153.0</td>\n      <td>0.0</td>\n      <td>0.0</td>\n      <td>0.0</td>\n      <td>0</td>\n      <td>3</td>\n      <td>33</td>\n    </tr>\n    <tr>\n      <th>23155</th>\n      <td>a0010e0ade</td>\n      <td>53cc29ea6d</td>\n      <td>416aed740e</td>\n      <td>2018-03-01</td>\n      <td>2018-03-01 00:00:08</td>\n      <td>1</td>\n      <td>1</td>\n      <td>1</td>\n      <td>162.9</td>\n      <td>9.9</td>\n      <td>153.0</td>\n      <td>0.0</td>\n      <td>0.0</td>\n      <td>0.0</td>\n      <td>0</td>\n      <td>2</td>\n      <td>2</td>\n    </tr>\n    <tr>\n      <th>14722</th>\n      <td>658c8eaefa</td>\n      <td>c219b1222e</td>\n      <td>adfedb6893</td>\n      <td>2018-03-01</td>\n      <td>2018-03-01 00:00:10</td>\n      <td>2</td>\n      <td>1</td>\n      <td>2</td>\n      <td>139.0</td>\n      <td>79.0</td>\n      <td>10.0</td>\n      <td>50.0</td>\n      <td>0.0</td>\n      <td>0.0</td>\n      <td>0</td>\n      <td>7</td>\n      <td>53</td>\n    </tr>\n    <tr>\n      <th>11839</th>\n      <td>4e877e09be</td>\n      <td>c3a038b0d9</td>\n      <td>416aed740e</td>\n      <td>2018-03-01</td>\n      <td>2018-03-01 00:00:10</td>\n      <td>1</td>\n      <td>1</td>\n      <td>1</td>\n      <td>162.9</td>\n      <td>9.9</td>\n      <td>153.0</td>\n      <td>0.0</td>\n      <td>0.0</td>\n      <td>0.0</td>\n      <td>0</td>\n      <td>26</td>\n      <td>26</td>\n    </tr>\n    <tr>\n      <th>6298</th>\n      <td>795decbd65</td>\n      <td>9df27ef4e4</td>\n      <td>416aed740e</td>\n      <td>2018-03-01</td>\n      <td>2018-03-01 00:00:11</td>\n      <td>1</td>\n      <td>1</td>\n      <td>3</td>\n      <td>162.9</td>\n      <td>9.9</td>\n      <td>153.0</td>\n      <td>0.0</td>\n      <td>0.0</td>\n      <td>0.0</td>\n      <td>0</td>\n      <td>24</td>\n      <td>40</td>\n    </tr>\n    <tr>\n      <th>240</th>\n      <td>2572814836</td>\n      <td>05c9c613bf</td>\n      <td>416aed740e</td>\n      <td>2018-03-01</td>\n      <td>2018-03-01 00:00:11</td>\n      <td>1</td>\n      <td>1</td>\n      <td>1</td>\n      <td>162.9</td>\n      <td>9.9</td>\n      <td>153.0</td>\n      <td>0.0</td>\n      <td>0.0</td>\n      <td>0.0</td>\n      <td>0</td>\n      <td>28</td>\n      <td>28</td>\n    </tr>\n    <tr>\n      <th>29793</th>\n      <td>9cd829ca7a</td>\n      <td>41c5936f49</td>\n      <td>3c79df1d80</td>\n      <td>2018-03-01</td>\n      <td>2018-03-01 00:00:11</td>\n      <td>1</td>\n      <td>1</td>\n      <td>1</td>\n      <td>59.9</td>\n      <td>39.9</td>\n      <td>20.0</td>\n      <td>0.0</td>\n      <td>0.0</td>\n      <td>0.0</td>\n      <td>0</td>\n      <td>4</td>\n      <td>4</td>\n    </tr>\n  </tbody>\n</table>\n</div>"
     },
     "execution_count": 32,
     "metadata": {},
     "output_type": "execute_result"
    }
   ],
   "source": [
    "order_1p.head(n=20)"
   ],
   "metadata": {
    "collapsed": false,
    "pycharm": {
     "name": "#%%\n"
    }
   }
  },
  {
   "cell_type": "markdown",
   "source": [
    "### Orders fulfilled by FDC and its RDC"
   ],
   "metadata": {
    "collapsed": false,
    "pycharm": {
     "name": "#%% md\n"
    }
   }
  },
  {
   "cell_type": "code",
   "execution_count": 33,
   "outputs": [],
   "source": [
    "network = pd.read_csv(\"./JD_data/JD_network_data.csv\")\n",
    "order = pd.read_csv(\"./pre_data/order_1p.csv\")"
   ],
   "metadata": {
    "collapsed": false,
    "pycharm": {
     "name": "#%%\n"
    }
   }
  },
  {
   "cell_type": "code",
   "execution_count": 43,
   "outputs": [
    {
     "name": "stdout",
     "output_type": "stream",
     "text": [
      "[2, 3, 4, 5, 7, 9, 10, 24]\n",
      "{2: 21842, 3: 1274, 4: 18197, 5: 29222, 7: 7279, 9: 20637, 10: 5131, 24: 10944}\n"
     ]
    }
   ],
   "source": [
    "# RDC\n",
    "rdc_list = fdc_list = network['region_ID'].unique().tolist()\n",
    "print(rdc_list)\n",
    "# RDC orders\n",
    "rdc_order_num = {}\n",
    "for rdc in rdc_list:\n",
    "    tmp_rdc_order = order[order['dc_des'] == rdc]\n",
    "    rdc_order_num[rdc] = len(tmp_rdc_order['order_ID'].unique().tolist())\n",
    "print(rdc_order_num)"
   ],
   "metadata": {
    "collapsed": false,
    "pycharm": {
     "name": "#%%\n"
    }
   }
  },
  {
   "cell_type": "code",
   "execution_count": 44,
   "outputs": [
    {
     "name": "stdout",
     "output_type": "stream",
     "text": [
      "[57, 43, 42, 66, 20, 58, 15, 6, 2, 64, 14, 33, 34, 35, 3, 45, 44, 51, 63, 19, 4, 12, 28, 5, 13, 55, 54, 26, 65, 53, 39, 8, 46, 31, 67, 1, 7, 59, 9, 56, 25, 27, 32, 61, 36, 50, 37, 11, 10, 38, 47, 40, 41, 52, 24, 21]\n",
      "    DC  RDC  total_order_num  order_by_DC  order_by_RDC  sum_DC_RDC\n",
      "0   57    2                0            0             0           0\n",
      "1   43    2             4192         2352          1119        3471\n",
      "2   42    2             5344         2950          1529        4479\n",
      "3   66    2                0            0             0           0\n",
      "4   20    2             7765         4144          1992        6136\n",
      "5   58    2                0            0             0           0\n",
      "6   15    2             1207          286           690         976\n",
      "7    6    2             7247         3881          1891        5772\n",
      "8    2    2            21842        20214             0       20214\n",
      "9   64    3             2286          844          1094        1938\n",
      "10  14    3              412          128           152         280\n",
      "11  33    3             5135         2125          2025        4150\n",
      "12  34    3             2817         1025          1248        2273\n",
      "13  35    3             2730         1002          1166        2168\n",
      "14   3    3             1274          392             0         392\n",
      "15  45    4             2548         1262           860        2122\n",
      "16  44    4             3181         1818           802        2620\n",
      "17  51    4             1308          575           529        1104\n",
      "18  63    4                0            0             0           0\n",
      "19  19    4              677          239           165         404\n",
      "20   4    4            18197        17070             0       17070\n",
      "21  12    4              373           74           231         305\n",
      "22  28    4             6374         3309          1897        5206\n",
      "23   5    5            29222        27276             0       27276\n",
      "24  13    5              632          170           291         461\n",
      "25  55    5             1963          861           733        1594\n",
      "26  54    5              890          331           282         613\n",
      "27  26    5             6911         2345          2771        5116\n",
      "28  65    5                0            0             0           0\n",
      "29  53    7             2883         1689           777        2466\n",
      "30  39    7             4434         2102          1445        3547\n",
      "31   8    7              713          236           350         586\n",
      "32  46    7             2962         1453           883        2336\n",
      "33  31    7             7098         4033          1792        5825\n",
      "34  67    7             1115          446           212         658\n",
      "35   1    7             1110          445           453         898\n",
      "36   7    7             7279         6606             0        6606\n",
      "37  59    7                0            0             0           0\n",
      "38   9    9            20637        19069             0       19069\n",
      "39  56    9                0            0             0           0\n",
      "40  25    9             2157          887           868        1755\n",
      "41  27    9            10759         1842          7078        8920\n",
      "42  32    9             3571         1639          1280        2919\n",
      "43  61    9             1400          598           531        1129\n",
      "44  36    9             4042         1945          1371        3316\n",
      "45  50    9             3159         1627           950        2577\n",
      "46  37   10             2916         1083          1304        2387\n",
      "47  11   10              618          184           345         529\n",
      "48  10   10             5131         4703             0        4703\n",
      "49  38   10             1665          635           732        1367\n",
      "50  47   10             2257          751          1123        1874\n",
      "51  40   24             1879         1043           538        1581\n",
      "52  41   24             3501         1780          1125        2905\n",
      "53  52   24             1232          671           371        1042\n",
      "54  24   24            10944        10214             0       10214\n",
      "55  21   24              600          260           115         375\n"
     ]
    }
   ],
   "source": [
    "# FDC\n",
    "fdc_list = network['dc_ID'].unique().tolist()\n",
    "print(fdc_list)\n",
    "# FDC orders\n",
    "dc_order = pd.DataFrame(columns=['DC', 'RDC', 'total_order_num', 'order_by_DC', 'order_by_RDC', 'sum_DC_RDC'], dtype='Int64')\n",
    "for fdc in fdc_list:\n",
    "    rdc = int(network[network['dc_ID'] == fdc]['region_ID'])\n",
    "    tmp = []\n",
    "    tmp_fdc_order = order[order['dc_des'] == fdc]\n",
    "    tmp1 = tmp_fdc_order[tmp_fdc_order['dc_ori'] == fdc]['order_ID'].unique().tolist()\n",
    "    tmp2 = tmp_fdc_order[tmp_fdc_order['dc_ori'] == rdc]['order_ID'].unique().tolist()\n",
    "    if fdc == rdc:\n",
    "        tmp = [fdc, rdc, rdc_order_num[fdc], len(tmp1), 0, len(tmp1)]\n",
    "    else:\n",
    "        tmp = [fdc, rdc, len(tmp_fdc_order), len(tmp1), len(tmp2), len(tmp1) + len(tmp2)]\n",
    "    dc_order.loc[len(dc_order.index)] = tmp\n",
    "print(dc_order)\n"
   ],
   "metadata": {
    "collapsed": false,
    "pycharm": {
     "name": "#%%\n"
    }
   }
  },
  {
   "cell_type": "code",
   "execution_count": 45,
   "outputs": [],
   "source": [
    "# calculate ratio\n",
    "def get_ratio(total_num, sum_num):\n",
    "    if total_num == 0:\n",
    "        return 0\n",
    "    else:\n",
    "        return sum_num / total_num\n",
    "dc_order['ratio'] = dc_order.apply(lambda x: get_ratio(x['total_order_num'], x['sum_DC_RDC']), axis=1)\n"
   ],
   "metadata": {
    "collapsed": false,
    "pycharm": {
     "name": "#%%\n"
    }
   }
  },
  {
   "cell_type": "code",
   "execution_count": 47,
   "outputs": [
    {
     "name": "stdout",
     "output_type": "stream",
     "text": [
      "    DC  RDC  total_order_num  order_by_DC  order_by_RDC  sum_DC_RDC     ratio\n",
      "23   5    5            29222        27276             0       27276  0.933406\n",
      "8    2    2            21842        20214             0       20214  0.925465\n",
      "38   9    9            20637        19069             0       19069  0.924020\n",
      "20   4    4            18197        17070             0       17070  0.938067\n",
      "54  24   24            10944        10214             0       10214  0.933297\n",
      "41  27    9            10759         1842          7078        8920  0.829073\n",
      "36   7    7             7279         6606             0        6606  0.907542\n",
      "4   20    2             7765         4144          1992        6136  0.790212\n",
      "33  31    7             7098         4033          1792        5825  0.820654\n",
      "7    6    2             7247         3881          1891        5772  0.796468\n",
      "22  28    4             6374         3309          1897        5206  0.816756\n",
      "27  26    5             6911         2345          2771        5116  0.740269\n",
      "48  10   10             5131         4703             0        4703  0.916585\n",
      "2   42    2             5344         2950          1529        4479  0.838136\n",
      "11  33    3             5135         2125          2025        4150  0.808179\n",
      "30  39    7             4434         2102          1445        3547  0.799955\n",
      "1   43    2             4192         2352          1119        3471  0.828006\n",
      "44  36    9             4042         1945          1371        3316  0.820386\n",
      "42  32    9             3571         1639          1280        2919  0.817418\n",
      "52  41   24             3501         1780          1125        2905  0.829763\n",
      "16  44    4             3181         1818           802        2620  0.823640\n",
      "45  50    9             3159         1627           950        2577  0.815764\n",
      "29  53    7             2883         1689           777        2466  0.855359\n",
      "46  37   10             2916         1083          1304        2387  0.818587\n",
      "32  46    7             2962         1453           883        2336  0.788656\n",
      "12  34    3             2817         1025          1248        2273  0.806887\n",
      "13  35    3             2730         1002          1166        2168  0.794139\n",
      "15  45    4             2548         1262           860        2122  0.832810\n",
      "9   64    3             2286          844          1094        1938  0.847769\n",
      "50  47   10             2257          751          1123        1874  0.830306\n",
      "40  25    9             2157          887           868        1755  0.813630\n",
      "25  55    5             1963          861           733        1594  0.812022\n",
      "51  40   24             1879         1043           538        1581  0.841405\n",
      "49  38   10             1665          635           732        1367  0.821021\n",
      "43  61    9             1400          598           531        1129  0.806429\n",
      "17  51    4             1308          575           529        1104  0.844037\n",
      "53  52   24             1232          671           371        1042  0.845779\n",
      "6   15    2             1207          286           690         976  0.808616\n",
      "35   1    7             1110          445           453         898  0.809009\n",
      "34  67    7             1115          446           212         658  0.590135\n",
      "26  54    5              890          331           282         613  0.688764\n",
      "31   8    7              713          236           350         586  0.821879\n",
      "47  11   10              618          184           345         529  0.855987\n",
      "24  13    5              632          170           291         461  0.729430\n",
      "19  19    4              677          239           165         404  0.596750\n",
      "14   3    3             1274          392             0         392  0.307692\n",
      "55  21   24              600          260           115         375  0.625000\n",
      "21  12    4              373           74           231         305  0.817694\n",
      "10  14    3              412          128           152         280  0.679612\n",
      "0   57    2                0            0             0           0  0.000000\n",
      "39  56    9                0            0             0           0  0.000000\n",
      "37  59    7                0            0             0           0  0.000000\n",
      "18  63    4                0            0             0           0  0.000000\n",
      "5   58    2                0            0             0           0  0.000000\n",
      "3   66    2                0            0             0           0  0.000000\n",
      "28  65    5                0            0             0           0  0.000000\n"
     ]
    }
   ],
   "source": [
    "dc_order.sort_values(by=['sum_DC_RDC'], ascending=False, inplace=True)\n",
    "dc_order.to_csv('./pre_data/dc_order.csv', index=False)\n",
    "print(dc_order)"
   ],
   "metadata": {
    "collapsed": false,
    "pycharm": {
     "name": "#%%\n"
    }
   }
  }
 ],
 "metadata": {
  "kernelspec": {
   "display_name": "Python 3",
   "language": "python",
   "name": "python3"
  },
  "language_info": {
   "codemirror_mode": {
    "name": "ipython",
    "version": 2
   },
   "file_extension": ".py",
   "mimetype": "text/x-python",
   "name": "python",
   "nbconvert_exporter": "python",
   "pygments_lexer": "ipython2",
   "version": "2.7.6"
  }
 },
 "nbformat": 4,
 "nbformat_minor": 0
}