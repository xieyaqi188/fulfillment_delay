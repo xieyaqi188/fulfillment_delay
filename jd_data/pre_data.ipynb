{
 "cells": [
  {
   "cell_type": "markdown",
   "source": [
    "### Preprocess JD data"
   ],
   "metadata": {
    "collapsed": false,
    "pycharm": {
     "name": "#%% md\n"
    }
   }
  },
  {
   "cell_type": "code",
   "execution_count": 1,
   "outputs": [],
   "source": [
    "import pandas as pd\n",
    "import numpy as np\n",
    "import matplotlib.pyplot as plt\n",
    "import datetime"
   ],
   "metadata": {
    "collapsed": false,
    "pycharm": {
     "name": "#%%\n"
    }
   }
  },
  {
   "cell_type": "code",
   "execution_count": 2,
   "outputs": [
    {
     "name": "stdout",
     "output_type": "stream",
     "text": [
      "<class 'pandas.core.frame.DataFrame'>\n",
      "RangeIndex: 549989 entries, 0 to 549988\n",
      "Data columns (total 17 columns):\n",
      " #   Column                      Non-Null Count   Dtype  \n",
      "---  ------                      --------------   -----  \n",
      " 0   order_ID                    549989 non-null  object \n",
      " 1   user_ID                     549989 non-null  object \n",
      " 2   sku_ID                      549989 non-null  object \n",
      " 3   order_date                  549989 non-null  object \n",
      " 4   order_time                  549989 non-null  object \n",
      " 5   quantity                    549989 non-null  int64  \n",
      " 6   type                        549989 non-null  int64  \n",
      " 7   promise                     549989 non-null  object \n",
      " 8   original_unit_price         549989 non-null  float64\n",
      " 9   final_unit_price            549989 non-null  float64\n",
      " 10  direct_discount_per_unit    549989 non-null  float64\n",
      " 11  quantity_discount_per_unit  549989 non-null  float64\n",
      " 12  bundle_discount_per_unit    549989 non-null  float64\n",
      " 13  coupon_discount_per_unit    549989 non-null  float64\n",
      " 14  gift_item                   549989 non-null  int64  \n",
      " 15  dc_ori                      549989 non-null  int64  \n",
      " 16  dc_des                      549989 non-null  int64  \n",
      "dtypes: float64(6), int64(5), object(6)\n",
      "memory usage: 71.3+ MB\n"
     ]
    }
   ],
   "source": [
    "order = pd.read_csv(\"./JD_data/JD_order_data.csv\")\n",
    "order.info()"
   ],
   "metadata": {
    "collapsed": false,
    "pycharm": {
     "name": "#%%\n"
    }
   }
  },
  {
   "cell_type": "code",
   "execution_count": null,
   "outputs": [],
   "source": [
    "# drop duplicate\n",
    "order = order.drop_duplicates(subset=['order_ID', 'sku_ID'], keep='first')\n",
    "# 1P\n",
    "order_1p = order[order['type'] == 1]\n",
    "# timestamp --- datetime\n",
    "order_1p['order_date'] = pd.to_datetime(order_1p['order_date'])\n",
    "order_1p['order_time'] = pd.to_datetime(order_1p['order_time'])\n",
    "# order time\n",
    "order_1p.sort_values(by=['order_time'], ascending=True, inplace=True)\n",
    "# save\n",
    "order_1p.to_csv('./pre_data/order_1p.csv', index=False)"
   ],
   "metadata": {
    "collapsed": false,
    "pycharm": {
     "name": "#%%\n",
     "is_executing": true
    }
   }
  },
  {
   "cell_type": "markdown",
   "source": [
    "### Orders fulfilled by FDC and its RDC"
   ],
   "metadata": {
    "collapsed": false,
    "pycharm": {
     "name": "#%% md\n"
    }
   }
  },
  {
   "cell_type": "code",
   "execution_count": 4,
   "outputs": [],
   "source": [
    "network = pd.read_csv(\"./JD_data/JD_network_data.csv\")\n",
    "order = pd.read_csv(\"./pre_data/order_1p.csv\")"
   ],
   "metadata": {
    "collapsed": false,
    "pycharm": {
     "name": "#%%\n"
    }
   }
  },
  {
   "cell_type": "code",
   "execution_count": 5,
   "outputs": [
    {
     "name": "stdout",
     "output_type": "stream",
     "text": [
      "[2, 3, 4, 5, 7, 9, 10, 24]\n",
      "{2: 21842, 3: 1274, 4: 18197, 5: 29222, 7: 7279, 9: 20637, 10: 5131, 24: 10944}\n"
     ]
    }
   ],
   "source": [
    "# RDC\n",
    "rdc_list = fdc_list = network['region_ID'].unique().tolist()\n",
    "print(rdc_list)\n",
    "# RDC orders\n",
    "rdc_order_num = {}\n",
    "for rdc in rdc_list:\n",
    "    tmp_rdc_order = order[order['dc_des'] == rdc]\n",
    "    rdc_order_num[rdc] = len(tmp_rdc_order['order_ID'].unique().tolist())\n",
    "print(rdc_order_num)"
   ],
   "metadata": {
    "collapsed": false,
    "pycharm": {
     "name": "#%%\n"
    }
   }
  },
  {
   "cell_type": "code",
   "execution_count": 6,
   "outputs": [
    {
     "name": "stdout",
     "output_type": "stream",
     "text": [
      "[57, 43, 42, 66, 20, 58, 15, 6, 2, 64, 14, 33, 34, 35, 3, 45, 44, 51, 63, 19, 4, 12, 28, 5, 13, 55, 54, 26, 65, 53, 39, 8, 46, 31, 67, 1, 7, 59, 9, 56, 25, 27, 32, 61, 36, 50, 37, 11, 10, 38, 47, 40, 41, 52, 24, 21]\n"
     ]
    }
   ],
   "source": [
    "# FDC\n",
    "fdc_list = network['dc_ID'].unique().tolist()\n",
    "print(fdc_list)\n",
    "# FDC orders\n",
    "dc_order = pd.DataFrame(columns=['DC', 'RDC', 'total_order_num', 'order_by_DC', 'order_by_RDC', 'sum_DC_RDC'], dtype='Int64')\n",
    "for fdc in fdc_list:\n",
    "    rdc = int(network[network['dc_ID'] == fdc]['region_ID'])\n",
    "    tmp = []\n",
    "    tmp_fdc_order = order[order['dc_des'] == fdc]\n",
    "    tmp1 = tmp_fdc_order[tmp_fdc_order['dc_ori'] == fdc]['order_ID'].unique().tolist()\n",
    "    tmp2 = tmp_fdc_order[tmp_fdc_order['dc_ori'] == rdc]['order_ID'].unique().tolist()\n",
    "    if fdc == rdc:\n",
    "        tmp = [fdc, rdc, rdc_order_num[fdc], len(tmp1), 0, len(tmp1)]\n",
    "    else:\n",
    "        tmp = [fdc, rdc, len(tmp_fdc_order), len(tmp1), len(tmp2), len(tmp1) + len(tmp2)]\n",
    "    dc_order.loc[len(dc_order.index)] = tmp"
   ],
   "metadata": {
    "collapsed": false,
    "pycharm": {
     "name": "#%%\n"
    }
   }
  },
  {
   "cell_type": "code",
   "execution_count": 7,
   "outputs": [],
   "source": [
    "# calculate ratio\n",
    "def get_ratio(total_num, sum_num):\n",
    "    if total_num == 0:\n",
    "        return 0\n",
    "    else:\n",
    "        return sum_num / total_num\n",
    "dc_order['ratio'] = dc_order.apply(lambda x: get_ratio(x['total_order_num'], x['sum_DC_RDC']), axis=1)"
   ],
   "metadata": {
    "collapsed": false,
    "pycharm": {
     "name": "#%%\n"
    }
   }
  },
  {
   "cell_type": "code",
   "execution_count": 8,
   "outputs": [
    {
     "name": "stdout",
     "output_type": "stream",
     "text": [
      "    DC  RDC  total_order_num  order_by_DC  order_by_RDC  sum_DC_RDC     ratio\n",
      "23   5    5            29222        27276             0       27276  0.933406\n",
      "8    2    2            21842        20214             0       20214  0.925465\n",
      "38   9    9            20637        19069             0       19069  0.924020\n",
      "20   4    4            18197        17070             0       17070  0.938067\n",
      "54  24   24            10944        10214             0       10214  0.933297\n",
      "41  27    9            10759         1842          7078        8920  0.829073\n",
      "36   7    7             7279         6606             0        6606  0.907542\n",
      "4   20    2             7765         4144          1992        6136  0.790212\n",
      "33  31    7             7098         4033          1792        5825  0.820654\n",
      "7    6    2             7247         3881          1891        5772  0.796468\n",
      "22  28    4             6374         3309          1897        5206  0.816756\n",
      "27  26    5             6911         2345          2771        5116  0.740269\n",
      "48  10   10             5131         4703             0        4703  0.916585\n",
      "2   42    2             5344         2950          1529        4479  0.838136\n",
      "11  33    3             5135         2125          2025        4150  0.808179\n",
      "30  39    7             4434         2102          1445        3547  0.799955\n",
      "1   43    2             4192         2352          1119        3471  0.828006\n",
      "44  36    9             4042         1945          1371        3316  0.820386\n",
      "42  32    9             3571         1639          1280        2919  0.817418\n",
      "52  41   24             3501         1780          1125        2905  0.829763\n",
      "16  44    4             3181         1818           802        2620  0.823640\n",
      "45  50    9             3159         1627           950        2577  0.815764\n",
      "29  53    7             2883         1689           777        2466  0.855359\n",
      "46  37   10             2916         1083          1304        2387  0.818587\n",
      "32  46    7             2962         1453           883        2336  0.788656\n",
      "12  34    3             2817         1025          1248        2273  0.806887\n",
      "13  35    3             2730         1002          1166        2168  0.794139\n",
      "15  45    4             2548         1262           860        2122  0.832810\n",
      "9   64    3             2286          844          1094        1938  0.847769\n",
      "50  47   10             2257          751          1123        1874  0.830306\n",
      "40  25    9             2157          887           868        1755  0.813630\n",
      "25  55    5             1963          861           733        1594  0.812022\n",
      "51  40   24             1879         1043           538        1581  0.841405\n",
      "49  38   10             1665          635           732        1367  0.821021\n",
      "43  61    9             1400          598           531        1129  0.806429\n",
      "17  51    4             1308          575           529        1104  0.844037\n",
      "53  52   24             1232          671           371        1042  0.845779\n",
      "6   15    2             1207          286           690         976  0.808616\n",
      "35   1    7             1110          445           453         898  0.809009\n",
      "34  67    7             1115          446           212         658  0.590135\n",
      "26  54    5              890          331           282         613  0.688764\n",
      "31   8    7              713          236           350         586  0.821879\n",
      "47  11   10              618          184           345         529  0.855987\n",
      "24  13    5              632          170           291         461  0.729430\n",
      "19  19    4              677          239           165         404  0.596750\n",
      "14   3    3             1274          392             0         392  0.307692\n",
      "55  21   24              600          260           115         375  0.625000\n",
      "21  12    4              373           74           231         305  0.817694\n",
      "10  14    3              412          128           152         280  0.679612\n",
      "0   57    2                0            0             0           0  0.000000\n",
      "39  56    9                0            0             0           0  0.000000\n",
      "37  59    7                0            0             0           0  0.000000\n",
      "18  63    4                0            0             0           0  0.000000\n",
      "5   58    2                0            0             0           0  0.000000\n",
      "3   66    2                0            0             0           0  0.000000\n",
      "28  65    5                0            0             0           0  0.000000\n"
     ]
    }
   ],
   "source": [
    "dc_order.sort_values(by=['sum_DC_RDC'], ascending=False, inplace=True)\n",
    "dc_order.to_csv('./pre_data/dc_order.csv', index=False)\n",
    "print(dc_order)"
   ],
   "metadata": {
    "collapsed": false,
    "pycharm": {
     "name": "#%%\n"
    }
   }
  }
 ],
 "metadata": {
  "kernelspec": {
   "display_name": "Python 3",
   "language": "python",
   "name": "python3"
  },
  "language_info": {
   "codemirror_mode": {
    "name": "ipython",
    "version": 2
   },
   "file_extension": ".py",
   "mimetype": "text/x-python",
   "name": "python",
   "nbconvert_exporter": "python",
   "pygments_lexer": "ipython2",
   "version": "2.7.6"
  }
 },
 "nbformat": 4,
 "nbformat_minor": 0
}